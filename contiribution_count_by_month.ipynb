{
 "cells": [
  {
   "cell_type": "code",
   "execution_count": 42,
   "id": "247115d2-8dd9-474a-a4b8-d2e922e47353",
   "metadata": {},
   "outputs": [],
   "source": [
    "from urllib.request import urlopen\n",
    "from bs4 import BeautifulSoup\n",
    "from datetime import datetime\n",
    "import pandas as pd\n",
    "\n",
    "def get_github_contributions(user:str, from_:str='2020-01-01'):\n",
    "    req_url = f'https://github.com/users/{user}/contributions?from={from_}'\n",
    "    response = urlopen(req_url)\n",
    "    html = response.read().decode()\n",
    "    soup = BeautifulSoup(html, \"html.parser\")\n",
    "    data = []\n",
    "    for elem in soup.find_all('rect'):\n",
    "        if 'data-date' in elem.attrs and 'data-count' in elem.attrs:\n",
    "            data.append({'date': elem['data-date'], 'count': int(elem['data-count'])})\n",
    "    df = pd.DataFrame(data)\n",
    "    df['date'] = df['date'].apply(lambda x: datetime.fromisoformat(x).astimezone())\n",
    "    df = df.set_index('date')\n",
    "    return df"
   ]
  },
  {
   "cell_type": "code",
   "execution_count": 79,
   "id": "611dcfc0-bc52-40e8-9266-1ffbdd7d6bbe",
   "metadata": {},
   "outputs": [],
   "source": [
    "users = [\n",
    "    'wan-nyan-wan',\n",
    "    'hppRC',\n",
    "    'sksat',\n",
    "    'hideo54',\n",
    "    'R-NK',\n",
    "    'ajiyoshi',\n",
    "    'co3k',\n",
    "    'cynipe',\n",
    "    'd-issy',\n",
    "    'hagino3000',\n",
    "    'konchanSS',\n",
    "    'kushami',\n",
    "    'makoga',\n",
    "    'nekoya',\n",
    "    'nishigori',\n",
    "    'pei0804',\n",
    "    'proshunsuke',\n",
    "    'rail44',\n",
    "    'S64',\n",
    "    'shu22203',\n",
    "    'takurinton',\n",
    "    'tomill',\n",
    "    'tomokatsu',\n",
    "    'wanimaru47',\n",
    "    'yamachu',\n",
    "    'YOwatari',\n",
    "    'yowcow',\n",
    "    '1000ch',\n",
    "    '110y',\n",
    "    'b4b4r07',\n",
    "    'aniket1743',\n",
    "    'cocoiti',\n",
    "    'cubicdaiya',\n",
    "    'deyunanhai',\n",
    "    'DQNEO',\n",
    "    'drlau',\n",
    "    'dtan4',\n",
    "    'hanabokuro',\n",
    "    'hirak',\n",
    "    'hitsubunnu',\n",
    "    'kaz',\n",
    "    'kazegusuri',\n",
    "    'KeisukeYamashita',\n",
    "    'kikoando112',\n",
    "    'metalunk',\n",
    "    'micnncim',\n",
    "    'moricho',\n",
    "    'mshibuya',\n",
    "    'nguyengiabk',\n",
    "    'orfeon',\n",
    "    'osamingo',\n",
    "    'ra1028',\n",
    "    'sadah',\n",
    "    'shibuiwilliam',\n",
    "    'shitian-ni',\n",
    "    'siroken3',\n",
    "    'syucream',\n",
    "    'tanakaworld',\n",
    "    'tjun',\n",
    "    'toshi0607',\n",
    "    'utahta',\n",
    "    'vbanthia',\n",
    "    'vvakame',\n",
    "    'ymt2',\n",
    "    'yoichitgy',\n",
    "    'zchee'\n",
    "]"
   ]
  },
  {
   "cell_type": "code",
   "execution_count": 81,
   "id": "f16ea201-bbc9-4bd9-b041-cae922c0cc33",
   "metadata": {},
   "outputs": [],
   "source": [
    "import time\n",
    "sum_by_user = {}\n",
    "for user in users:\n",
    "    print(user)\n",
    "    sum_by_month = []\n",
    "    df = get_github_contributions(user)\n",
    "    for i in range(2,13):\n",
    "        sum_by_month.append(df[(f'2020-{i-1:02}-01' <= df.index) & (df.index < f'2020-{i:02}-01')].sum()[0])\n",
    "    sum_by_month.append(df[('2020-12-01' <= df.index) & (df.index < '2021-01-01')].sum()[0])\n",
    "    sum_by_user[user] = sum_by_month\n",
    "    time.sleep(0.5)"
   ]
  },
  {
   "cell_type": "code",
   "execution_count": 82,
   "id": "b7c1cc4d-fdd6-4417-8b0e-1debd0a3242e",
   "metadata": {},
   "outputs": [
    {
     "data": {
      "text/plain": [
       "{'wan-nyan-wan': [0, 0, 0, 4, 23, 120, 160, 116, 263, 114, 41, 31],\n",
       " 'hppRC': [345, 165, 200, 336, 606, 450, 200, 99, 182, 179, 108, 139],\n",
       " 'sksat': [9, 116, 107, 76, 54, 37, 16, 17, 5, 5, 36, 76],\n",
       " 'hideo54': [19, 74, 167, 177, 95, 98, 45, 103, 261, 96, 134, 149],\n",
       " 'R-NK': [56, 108, 60, 52, 133, 105, 181, 103, 169, 193, 239, 118],\n",
       " 'ajiyoshi': [0, 0, 0, 0, 0, 0, 0, 0, 0, 0, 0, 0],\n",
       " 'co3k': [165, 107, 100, 101, 158, 83, 148, 119, 149, 99, 103, 157],\n",
       " 'cynipe': [152, 315, 97, 279, 292, 103, 177, 64, 58, 11, 38, 18],\n",
       " 'd-issy': [202, 220, 242, 102, 93, 38, 7, 0, 0, 21, 41, 96],\n",
       " 'hagino3000': [64, 144, 80, 89, 72, 73, 115, 111, 104, 37, 71, 41],\n",
       " 'konchanSS': [114, 191, 253, 190, 158, 183, 108, 72, 189, 160, 74, 102],\n",
       " 'kushami': [1, 0, 3, 1, 11, 7, 11, 16, 140, 52, 22, 43],\n",
       " 'makoga': [0, 0, 0, 4, 4, 6, 0, 0, 5, 2, 1, 0],\n",
       " 'nekoya': [58, 88, 250, 120, 233, 153, 182, 181, 157, 239, 114, 86],\n",
       " 'nishigori': [92, 79, 260, 280, 226, 189, 175, 283, 136, 149, 60, 104],\n",
       " 'pei0804': [427, 320, 407, 498, 410, 483, 86, 51, 216, 299, 292, 353],\n",
       " 'proshunsuke': [47, 118, 105, 149, 64, 161, 52, 129, 193, 117, 136, 287],\n",
       " 'rail44': [95, 106, 107, 153, 200, 141, 77, 8, 48, 97, 34, 22],\n",
       " 'S64': [107, 336, 269, 293, 187, 365, 405, 406, 558, 412, 562, 351],\n",
       " 'shu22203': [201, 140, 112, 116, 248, 483, 317, 147, 75, 184, 59, 112],\n",
       " 'takurinton': [24, 2, 4, 15, 4, 67, 11, 151, 204, 167, 97, 72],\n",
       " 'tomill': [113, 140, 58, 71, 57, 39, 76, 65, 84, 45, 41, 40],\n",
       " 'tomokatsu': [0, 0, 0, 0, 0, 4, 0, 0, 19, 0, 0, 0],\n",
       " 'wanimaru47': [214, 193, 175, 154, 150, 221, 138, 115, 123, 76, 229, 60],\n",
       " 'yamachu': [188, 212, 270, 210, 188, 236, 349, 267, 318, 329, 186, 82],\n",
       " 'YOwatari': [89, 110, 40, 127, 106, 97, 115, 213, 97, 131, 134, 85],\n",
       " 'yowcow': [263, 208, 227, 143, 246, 139, 103, 89, 159, 118, 110, 125],\n",
       " '1000ch': [238, 119, 284, 165, 498, 796, 525, 461, 238, 221, 192, 129],\n",
       " '110y': [236, 233, 296, 424, 248, 401, 385, 484, 315, 265, 226, 273],\n",
       " 'b4b4r07': [604, 513, 87, 98, 24, 34, 77, 74, 127, 122, 146, 180],\n",
       " 'aniket1743': [0, 0, 0, 0, 0, 0, 0, 2, 0, 0, 0, 0],\n",
       " 'cocoiti': [0, 0, 0, 0, 0, 0, 0, 0, 0, 0, 0, 0],\n",
       " 'cubicdaiya': [10, 0, 11, 2, 6, 0, 6, 3, 4, 10, 2, 4],\n",
       " 'deyunanhai': [1, 8, 0, 0, 0, 2, 2, 0, 0, 0, 0, 0],\n",
       " 'DQNEO': [139, 216, 672, 329, 297, 287, 302, 30, 98, 78, 25, 66],\n",
       " 'drlau': [60, 137, 387, 316, 334, 377, 165, 405, 319, 302, 360, 115],\n",
       " 'dtan4': [20, 6, 253, 139, 1, 37, 85, 117, 15, 61, 0, 0],\n",
       " 'hanabokuro': [0, 0, 0, 0, 1, 0, 0, 0, 57, 59, 0, 0],\n",
       " 'hirak': [8, 92, 118, 124, 184, 214, 279, 146, 121, 122, 96, 131],\n",
       " 'hitsubunnu': [0, 1, 0, 0, 4, 0, 0, 0, 0, 0, 5, 6],\n",
       " 'kaz': [123, 120, 170, 76, 90, 82, 52, 17, 189, 149, 208, 252],\n",
       " 'kazegusuri': [255, 225, 372, 416, 393, 376, 146, 157, 249, 151, 288, 217],\n",
       " 'KeisukeYamashita': [12, 9, 65, 12, 6, 24, 193, 194, 59, 345, 450, 203],\n",
       " 'kikoando112': [0, 0, 0, 0, 1, 0, 0, 0, 0, 0, 0, 0],\n",
       " 'metalunk': [6, 7, 9, 53, 113, 136, 274, 155, 149, 107, 23, 53],\n",
       " 'micnncim': [372, 250, 14, 463, 1707, 550, 415, 275, 645, 349, 732, 211],\n",
       " 'moricho': [213, 116, 38, 78, 72, 26, 47, 99, 142, 140, 155, 158],\n",
       " 'mshibuya': [1, 6, 7, 0, 0, 1, 2, 0, 0, 14, 9, 3],\n",
       " 'nguyengiabk': [0, 0, 0, 0, 3, 0, 0, 0, 0, 0, 3, 0],\n",
       " 'orfeon': [0, 0, 0, 0, 0, 0, 0, 0, 0, 2, 0, 22],\n",
       " 'osamingo': [27, 13, 29, 28, 32, 8, 8, 29, 35, 10, 24, 32],\n",
       " 'ra1028': [198, 10, 96, 250, 292, 258, 182, 272, 122, 283, 238, 189],\n",
       " 'sadah': [3, 6, 7, 131, 83, 67, 72, 33, 11, 9, 1, 2],\n",
       " 'shibuiwilliam': [23, 8, 8, 45, 58, 51, 86, 60, 0, 6, 33, 64],\n",
       " 'shitian-ni': [32, 61, 93, 23, 49, 79, 80, 137, 110, 152, 79, 73],\n",
       " 'siroken3': [0, 0, 0, 0, 0, 0, 1, 0, 0, 0, 0, 0],\n",
       " 'syucream': [408, 308, 406, 260, 418, 712, 603, 549, 571, 502, 462, 495],\n",
       " 'tanakaworld': [307, 494, 691, 335, 433, 514, 385, 536, 411, 255, 183, 249],\n",
       " 'tjun': [186, 315, 216, 111, 266, 186, 199, 105, 53, 67, 65, 13],\n",
       " 'toshi0607': [272, 289, 190, 184, 375, 93, 170, 384, 449, 281, 327, 272],\n",
       " 'utahta': [90, 111, 113, 111, 138, 139, 142, 119, 158, 123, 182, 129],\n",
       " 'vbanthia': [344, 116, 280, 172, 475, 201, 170, 179, 331, 119, 132, 102],\n",
       " 'vvakame': [798, 937, 1001, 544, 451, 635, 595, 1092, 918, 673, 848, 763],\n",
       " 'ymt2': [163, 177, 191, 282, 331, 208, 132, 57, 151, 154, 389, 328],\n",
       " 'yoichitgy': [2, 0, 0, 0, 0, 0, 0, 0, 0, 9, 5, 1],\n",
       " 'zchee': [553, 269, 318, 548, 295, 272, 243, 380, 870, 374, 248, 375]}"
      ]
     },
     "execution_count": 82,
     "metadata": {},
     "output_type": "execute_result"
    }
   ],
   "source": [
    "sum_by_user"
   ]
  },
  {
   "cell_type": "code",
   "execution_count": 83,
   "id": "c99b8137-d1b4-43fb-8366-f4b687b10e4d",
   "metadata": {},
   "outputs": [
    {
     "data": {
      "text/plain": [
       "{1: 8749,\n",
       " 2: 8664,\n",
       " 3: 10015,\n",
       " 4: 9459,\n",
       " 5: 11696,\n",
       " 6: 10847,\n",
       " 7: 9277,\n",
       " 8: 9476,\n",
       " 9: 10829,\n",
       " 10: 8846,\n",
       " 11: 9098,\n",
       " 12: 7859}"
      ]
     },
     "execution_count": 83,
     "metadata": {},
     "output_type": "execute_result"
    }
   ],
   "source": [
    "res = {}\n",
    "for i in range(12):\n",
    "    res[i+1] = 0\n",
    "for user in sum_by_user:\n",
    "    for i in range(12):\n",
    "        res[i+1] += sum_by_user[user][i]\n",
    "res"
   ]
  },
  {
   "cell_type": "code",
   "execution_count": 85,
   "id": "d0e242e3-4ac7-42d8-b8f8-2834c71cb054",
   "metadata": {},
   "outputs": [
    {
     "name": "stdout",
     "output_type": "stream",
     "text": [
      "66\n"
     ]
    },
    {
     "data": {
      "image/png": "[encoded data removed]",
      "text/plain": [
       "<Figure size 432x288 with 1 Axes>"
      ]
     },
     "metadata": {
      "needs_background": "light"
     },
     "output_type": "display_data"
    }
   ],
   "source": [
    "import matplotlib.pyplot as plt\n",
    "plt.bar(range(len(res)), list(res.values()), align='center')\n",
    "plt.xticks(range(len(res)), list(res.keys()))\n",
    "plt.show()"
   ]
  }
 ],
 "metadata": {
  "kernelspec": {
   "display_name": "Python 3 (ipykernel)",
   "language": "python",
   "name": "python3"
  },
  "language_info": {
   "codemirror_mode": {
    "name": "ipython",
    "version": 3
   },
   "file_extension": ".py",
   "mimetype": "text/x-python",
   "name": "python",
   "nbconvert_exporter": "python",
   "pygments_lexer": "ipython3",
   "version": "3.9.1"
  }
 },
 "nbformat": 4,
 "nbformat_minor": 5
}
